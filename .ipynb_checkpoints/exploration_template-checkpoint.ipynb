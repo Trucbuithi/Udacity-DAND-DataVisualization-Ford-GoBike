{
 "cells": [
  {
   "cell_type": "markdown",
   "metadata": {},
   "source": [
    "# Data Visualization: Ford Go Bike 2017\n",
    "\n",
    "<ul>\n",
    "<li><a href=\"#wrangle\">I. Preliminary Wrangling</a></li>\n",
    "<li><a href=\"#uni\">II. Univariate Exploration</a></li>\n",
    "<li><a href=\"#bi\">III. Bivariate Exploration</a></li>\n",
    "<li><a href=\"#mult\">IV. Multivariate Exploration</a></li> \n",
    "<li><a href=\"#con\">V. Conclusion</a></li>\n",
    "<li><a href=\"#next\">VI. Proposal for the next step</a></li>\n",
    "<li><a href=\"#ref\">VII. Reference</a></li>    \n",
    "</ul>\n",
    "\n",
    "<a id='wrangle'></a>\n",
    "## I. Preliminary Wrangling  \n",
    "\n",
    "This document explores a dataset including time, stations, and users' attributes for 519,700 trips."
   ]
  },
  {
   "cell_type": "code",
   "execution_count": 2,
   "metadata": {},
   "outputs": [],
   "source": [
    "# import all packages and set plots to be embedded inline\n",
    "import numpy as np\n",
    "import pandas as pd\n",
    "import matplotlib.pyplot as plt\n",
    "import seaborn as sb\n",
    "import calendar\n",
    "import math\n",
    "import time\n",
    "\n",
    "%matplotlib inline"
   ]
  },
  {
   "cell_type": "code",
   "execution_count": 3,
   "metadata": {},
   "outputs": [],
   "source": [
    "# Import Ford GoBike csv file into jupyter notebook\n",
    "df = pd.read_csv('2017-fordgobike-tripdata.csv')"
   ]
  },
  {
   "cell_type": "markdown",
   "metadata": {},
   "source": [
    "### The structure of the dataset  \n",
    "\n",
    "This dataset includes 519,700 trips with 15 features.  \n",
    "\n",
    "| Variable Name          | Definition                 |\n",
    "|------------------------|----------------------------|\n",
    "| duration_sec           | int64                      |\n",
    "| start_time             | string                     |\n",
    "| end_time               | string                     |\n",
    "| start_station_id       | int64                      |\n",
    "| start_station_name     | string                     |\n",
    "| start_station_latitude | float64                    |\n",
    "| start_station_longitude| float64                    |\n",
    "| end_station_id         | int64                      |\n",
    "| end_station_name       | string                     |\n",
    "| end_station_latitude   | float64                    |\n",
    "| end_station_longitude  | float64                    |\n",
    "| bike_id                | int64                      |\n",
    "| user_type              | string                     |\n",
    "| member_birth_year      | float64                    |\n",
    "| member_gender          | string                     |\n",
    " \n",
    "* The time variables in this dataset are all string. They need to be converted to datetime format for the analysis.\n",
    "* The time variables can be broken down into time of day, day of the week, or month of the year.    \n",
    "* The dataset provides membership birth year, so ages can be derived by using the year of the dataset, 2017, to divide by the membership birth year.  \n",
    "\n",
    "### The main feature(s) of interest in the dataset\n",
    "\n",
    "I am most interested in figuring out when and where are most trips taken in terms of time and location because this dataset includes start time/location and end time/location. I focus on the starting points first.   \n",
    "- Also, I am interested in what are the characteristics (age, sex, and user_type) of the riders and the duration of the trips in these time and location.\n",
    "\n",
    "### The features in the dataset expect to support the investigation into the feature(s) of interest.\n",
    "\n",
    "I expect the Caltrain or Bart stations in San Francisco will have more trips than other locations because those stations are in the center of the city and connect to other major transportation. Morning and afternoon will have more trips than night time due to rush hours. Also, I assume younger riders are more than older riders because of physical abilities. Moreover, based on the [pricing](https://www.fordgobike.com/pricing), subscribers are more likely riding more than customers. And it's hard to expect female riders are more or males, so I leave this topic in the analysis."
   ]
  },
  {
   "cell_type": "code",
   "execution_count": 27,
   "metadata": {
    "scrolled": true
   },
   "outputs": [
    {
     "name": "stdout",
     "output_type": "stream",
     "text": [
      "(519700, 15)\n",
      "<class 'pandas.core.frame.DataFrame'>\n",
      "RangeIndex: 519700 entries, 0 to 519699\n",
      "Data columns (total 15 columns):\n",
      "duration_sec               519700 non-null int64\n",
      "start_time                 519700 non-null object\n",
      "end_time                   519700 non-null object\n",
      "start_station_id           519700 non-null int64\n",
      "start_station_name         519700 non-null object\n",
      "start_station_latitude     519700 non-null float64\n",
      "start_station_longitude    519700 non-null float64\n",
      "end_station_id             519700 non-null int64\n",
      "end_station_name           519700 non-null object\n",
      "end_station_latitude       519700 non-null float64\n",
      "end_station_longitude      519700 non-null float64\n",
      "bike_id                    519700 non-null int64\n",
      "user_type                  519700 non-null object\n",
      "member_birth_year          453159 non-null float64\n",
      "member_gender              453238 non-null object\n",
      "dtypes: float64(5), int64(4), object(6)\n",
      "memory usage: 59.5+ MB\n",
      "None\n",
      "   duration_sec                start_time                  end_time  \\\n",
      "0         80110  2017-12-31 16:57:39.6540  2018-01-01 15:12:50.2450   \n",
      "1         78800  2017-12-31 15:56:34.8420  2018-01-01 13:49:55.6170   \n",
      "2         45768  2017-12-31 22:45:48.4110  2018-01-01 11:28:36.8830   \n",
      "3         62172  2017-12-31 17:31:10.6360  2018-01-01 10:47:23.5310   \n",
      "4         43603  2017-12-31 14:23:14.0010  2018-01-01 02:29:57.5710   \n",
      "5          9226  2017-12-31 22:51:00.9180  2018-01-01 01:24:47.1660   \n",
      "6          4507  2017-12-31 23:49:28.4220  2018-01-01 01:04:35.6190   \n",
      "7          4334  2017-12-31 23:46:37.1960  2018-01-01 00:58:51.2110   \n",
      "8          4150  2017-12-31 23:37:07.5480  2018-01-01 00:46:18.3080   \n",
      "9          4238  2017-12-31 23:35:38.1450  2018-01-01 00:46:17.0530   \n",
      "\n",
      "   start_station_id                                 start_station_name  \\\n",
      "0                74                              Laguna St at Hayes St   \n",
      "1               284  Yerba Buena Center for the Arts (Howard St at ...   \n",
      "2               245                             Downtown Berkeley BART   \n",
      "3                60                               8th St at Ringold St   \n",
      "4               239                      Bancroft Way at Telegraph Ave   \n",
      "5                30     San Francisco Caltrain (Townsend St at 4th St)   \n",
      "6               259                            Addison St at Fourth St   \n",
      "7               284  Yerba Buena Center for the Arts (Howard St at ...   \n",
      "8                20    Mechanics Monument Plaza (Market St at Bush St)   \n",
      "9                20    Mechanics Monument Plaza (Market St at Bush St)   \n",
      "\n",
      "   start_station_latitude  start_station_longitude  end_station_id  \\\n",
      "0               37.776435              -122.426244              43   \n",
      "1               37.784872              -122.400876              96   \n",
      "2               37.870348              -122.267764             245   \n",
      "3               37.774520              -122.409449               5   \n",
      "4               37.868813              -122.258764             247   \n",
      "5               37.776598              -122.395282              30   \n",
      "6               37.866249              -122.299371             259   \n",
      "7               37.784872              -122.400876             284   \n",
      "8               37.791300              -122.399051              20   \n",
      "9               37.791300              -122.399051              20   \n",
      "\n",
      "                                    end_station_name  end_station_latitude  \\\n",
      "0  San Francisco Public Library (Grove St at Hyde...             37.778768   \n",
      "1                              Dolores St at 15th St             37.766210   \n",
      "2                             Downtown Berkeley BART             37.870348   \n",
      "3       Powell St BART Station (Market St at 5th St)             37.783899   \n",
      "4                          Fulton St at Bancroft Way             37.867789   \n",
      "5     San Francisco Caltrain (Townsend St at 4th St)             37.776598   \n",
      "6                            Addison St at Fourth St             37.866249   \n",
      "7  Yerba Buena Center for the Arts (Howard St at ...             37.784872   \n",
      "8    Mechanics Monument Plaza (Market St at Bush St)             37.791300   \n",
      "9    Mechanics Monument Plaza (Market St at Bush St)             37.791300   \n",
      "\n",
      "   end_station_longitude  bike_id   user_type  member_birth_year member_gender  \n",
      "0            -122.415929       96    Customer             1987.0          Male  \n",
      "1            -122.426614       88    Customer             1965.0        Female  \n",
      "2            -122.267764     1094    Customer                NaN           NaN  \n",
      "3            -122.408445     2831    Customer                NaN           NaN  \n",
      "4            -122.265896     3167  Subscriber             1997.0        Female  \n",
      "5            -122.395282     1487    Customer                NaN           NaN  \n",
      "6            -122.299371     3539    Customer             1991.0        Female  \n",
      "7            -122.400876     1503    Customer                NaN           NaN  \n",
      "8            -122.399051     3125    Customer                NaN           NaN  \n",
      "9            -122.399051     2543    Customer                NaN           NaN  \n"
     ]
    }
   ],
   "source": [
    "# Find out the structure of the dataset\n",
    "print(df.shape)\n",
    "print(df.info())\n",
    "print(df.head(10))"
   ]
  },
  {
   "cell_type": "code",
   "execution_count": 28,
   "metadata": {},
   "outputs": [],
   "source": [
    "# 1. Convert time variables from string to datetime\n",
    "# a. month of the year\n",
    "df['start_time'] = pd.to_datetime(df['start_time'])\n",
    "df['start_month_num'] = df['start_time'].apply(lambda time: time.month)\n",
    "df['start_month_char'] = df['start_month_num'].apply(lambda x: calendar.month_abbr[x])"
   ]
  },
  {
   "cell_type": "code",
   "execution_count": 29,
   "metadata": {},
   "outputs": [
    {
     "name": "stderr",
     "output_type": "stream",
     "text": [
      "/Users/jemchang/anaconda3/lib/python3.6/site-packages/ipykernel_launcher.py:4: SettingWithCopyWarning: \n",
      "A value is trying to be set on a copy of a slice from a DataFrame\n",
      "\n",
      "See the caveats in the documentation: http://pandas.pydata.org/pandas-docs/stable/indexing.html#indexing-view-versus-copy\n",
      "  after removing the cwd from sys.path.\n",
      "/Users/jemchang/anaconda3/lib/python3.6/site-packages/ipykernel_launcher.py:5: SettingWithCopyWarning: \n",
      "A value is trying to be set on a copy of a slice from a DataFrame\n",
      "\n",
      "See the caveats in the documentation: http://pandas.pydata.org/pandas-docs/stable/indexing.html#indexing-view-versus-copy\n",
      "  \"\"\"\n"
     ]
    }
   ],
   "source": [
    " # b. morning, afternoon, night of the day\n",
    "df['start_hour'] = df['start_time'].apply(lambda time: time.hour)\n",
    "df['period_day'] = 'morning'\n",
    "df['period_day'][(df['start_hour'] >= 12) & (df['start_hour'] <= 17)] = 'afternoon'\n",
    "df['period_day'][(df['start_hour'] >= 18) & (df['start_hour'] <= 23)] = 'night'"
   ]
  },
  {
   "cell_type": "code",
   "execution_count": 30,
   "metadata": {},
   "outputs": [
    {
     "data": {
      "text/plain": [
       "afternoon    209620\n",
       "morning      195925\n",
       "night        114155\n",
       "Name: period_day, dtype: int64"
      ]
     },
     "execution_count": 30,
     "metadata": {},
     "output_type": "execute_result"
    }
   ],
   "source": [
    "# Test: period of day\n",
    "df['period_day'].value_counts()"
   ]
  },
  {
   "cell_type": "code",
   "execution_count": 31,
   "metadata": {},
   "outputs": [],
   "source": [
    "# c. Day of the week\n",
    "df['start_weekday_num'] = df['start_time'].apply(lambda time: time.dayofweek)\n",
    "dmap = {0:'Mon',1:'Tue',2:'Wed',3:'Thu',4:'Fri',5:'Sat',6:'Sun'}\n",
    "df['start_weekday_char'] = df['start_weekday_num'].map(dmap)"
   ]
  },
  {
   "cell_type": "code",
   "execution_count": 32,
   "metadata": {},
   "outputs": [],
   "source": [
    "# convert time period, month, and weekday into ordered categorical types\n",
    "ordinal_var_dict = {'start_month_char': ['Jun','Jul','Aug','Sep','Oct','Nov','Dec'],\n",
    "                    'period_day': ['morning', 'afternoon', 'night'],\n",
    "                    'start_weekday_char': ['Mon', 'Tue', 'Wed', 'Thu', 'Fri', 'Sat', 'Sun']}\n",
    "\n",
    "for var in ordinal_var_dict:\n",
    "    ordered_var = pd.api.types.CategoricalDtype(ordered = True,\n",
    "                                                categories = ordinal_var_dict[var])\n",
    "    df[var] = df[var].astype(ordered_var)"
   ]
  },
  {
   "cell_type": "code",
   "execution_count": 33,
   "metadata": {},
   "outputs": [],
   "source": [
    "# 2. Create ages\n",
    "df['age'] = df['member_birth_year'].apply(lambda x: 2017 - x)"
   ]
  },
  {
   "cell_type": "markdown",
   "metadata": {},
   "source": [
    "<a id='uni'></a>\n",
    "## II. Univariate Exploration\n",
    "I start by looking into the start time and start location of this dataset."
   ]
  },
  {
   "cell_type": "code",
   "execution_count": 77,
   "metadata": {},
   "outputs": [
    {
     "data": {
      "image/png": "[encoded data removed]",
      "text/plain": [
       "<Figure size 432x288 with 1 Axes>"
      ]
     },
     "metadata": {
      "needs_background": "light"
     },
     "output_type": "display_data"
    }
   ],
   "source": [
    "# 1. Time by months \n",
    "base_color = sb.color_palette()[0]\n",
    "sb.countplot(data=df, x='start_month_char', color=base_color)\n",
    "plt.xlabel('Start Time by Month')\n",
    "plt.ylabel('Count');"
   ]
  },
  {
   "cell_type": "markdown",
   "metadata": {},
   "source": [
    "In this time by month figure, why June's trips are way less than other months? I look into each date in this month to figure it out."
   ]
  },
  {
   "cell_type": "code",
   "execution_count": 59,
   "metadata": {},
   "outputs": [
    {
     "name": "stderr",
     "output_type": "stream",
     "text": [
      "/Users/jemchang/anaconda3/lib/python3.6/site-packages/ipykernel_launcher.py:2: SettingWithCopyWarning: \n",
      "A value is trying to be set on a copy of a slice from a DataFrame.\n",
      "Try using .loc[row_indexer,col_indexer] = value instead\n",
      "\n",
      "See the caveats in the documentation: http://pandas.pydata.org/pandas-docs/stable/indexing.html#indexing-view-versus-copy\n",
      "  \n"
     ]
    },
    {
     "data": {
      "text/plain": [
       "30    1038\n",
       "29    1019\n",
       "28     632\n",
       "Name: day, dtype: int64"
      ]
     },
     "execution_count": 59,
     "metadata": {},
     "output_type": "execute_result"
    }
   ],
   "source": [
    "df_6 = df.query('start_month_num == 6')\n",
    "df_6['day'] = df_6['start_time'].apply(lambda x: x.day)\n",
    "df_6['day'].value_counts()"
   ]
  },
  {
   "cell_type": "markdown",
   "metadata": {},
   "source": [
    "After checking online information (https://en.wikipedia.org/wiki/Ford_GoBike), Ford GoBike was launched since June 28, 2017. There is no data before June 28, 2017, so I decide to remove June data from the analysis."
   ]
  },
  {
   "cell_type": "code",
   "execution_count": 60,
   "metadata": {},
   "outputs": [],
   "source": [
    "# remove June's data and save the new dataset as df2\n",
    "df2 = df.query('start_month_num != 6')"
   ]
  },
  {
   "cell_type": "code",
   "execution_count": 61,
   "metadata": {},
   "outputs": [
    {
     "name": "stdout",
     "output_type": "stream",
     "text": [
      "272\n"
     ]
    },
    {
     "data": {
      "text/plain": [
       "San Francisco Ferry Building (Harry Bridges Plaza)                 14978\n",
       "The Embarcadero at Sansome St                                      13517\n",
       "San Francisco Caltrain (Townsend St at 4th St)                     12366\n",
       "San Francisco Caltrain Station 2  (Townsend St at 4th St)          12003\n",
       "Market St at 10th St                                               11852\n",
       "Montgomery St BART Station (Market St at 2nd St)                   11207\n",
       "Berry St at 4th St                                                 10856\n",
       "Powell St BART Station (Market St at 4th St)                       10097\n",
       "Howard St at Beale St                                               9809\n",
       "Steuart St at Market St                                             9347\n",
       "Powell St BART Station (Market St at 5th St)                        7910\n",
       "Embarcadero BART Station (Beale St at Market St)                    7549\n",
       "2nd St at Townsend St - Coming Soon                                 6487\n",
       "3rd St at Townsend St                                               6335\n",
       "Townsend St at 7th St                                               6135\n",
       "The Embarcadero at Steuart St                                       5898\n",
       "2nd St at S Park St                                                 5695\n",
       "Howard St at 2nd St                                                 5669\n",
       "Union Square (Powell St at Post St)                                 5569\n",
       "19th Street BART Station                                            5558\n",
       "Civic Center/UN Plaza BART Station (Market St at McAllister St)     5457\n",
       "Post St at Kearny St                                                4808\n",
       "Spear St at Folsom St                                               4760\n",
       "S Van Ness Ave at Market St                                         4729\n",
       "The Embarcadero at Bryant St                                        4684\n",
       "Mechanics Monument Plaza (Market St at Bush St)                     4618\n",
       "5th St at Howard St                                                 4597\n",
       "2nd St at Folsom St                                                 4559\n",
       "Broadway at Kearny                                                  4462\n",
       "The Embarcadero at Vallejo St                                       4208\n",
       "                                                                   ...  \n",
       "14th St at Filbert St                                                105\n",
       "Ninth St at Heinz Ave                                                 94\n",
       "Fruitvale Ave at International Blvd                                   71\n",
       "San Pablo Ave at 27th St                                              62\n",
       "Telegraph Ave at Carleton St                                          61\n",
       "Mission St at 1st St                                                  61\n",
       "13th St at Franklin St                                                61\n",
       "Ninth St at Parker St                                                 60\n",
       "College Ave at Bryant Ave                                             59\n",
       "Vine St at Shattuck Ave                                               58\n",
       "Delmas Ave and San Fernando St                                        56\n",
       "21st Ave at International Blvd                                        54\n",
       "Dolores St at 22nd St                                                 47\n",
       "26th Ave at International Blvd                                        41\n",
       "Foothill Blvd at 42nd Ave                                             39\n",
       "Webster St at 19th St                                                 37\n",
       "Channing Way at San Pablo Ave                                         35\n",
       "Willow St at Vine St                                                  30\n",
       "Palm St at Willow St                                                  29\n",
       "Foothill Blvd at Harrington Ave                                       28\n",
       "University Ave at Oxford St                                           24\n",
       "Fruitvale BART Station                                                24\n",
       "Derby St at College Ave                                               16\n",
       "Bestor Art Park                                                       15\n",
       "W St John St at Guadalupe River Trail                                 15\n",
       "Pierce Ave at Market St                                               11\n",
       "Harmon St at Adeline St                                                6\n",
       "Empire St at 1st St                                                    5\n",
       "Jackson St at 11th St                                                  2\n",
       "Ellsworth St at Russell St                                             1\n",
       "Name: start_station_name, Length: 272, dtype: int64"
      ]
     },
     "execution_count": 61,
     "metadata": {},
     "output_type": "execute_result"
    }
   ],
   "source": [
    "# 2. Location: there are 272 start stations. \n",
    "print(len(df2['start_station_name'].value_counts()))\n",
    "df2['start_station_name'].value_counts()"
   ]
  },
  {
   "cell_type": "markdown",
   "metadata": {},
   "source": [
    "There are 272 stations in this dataset. I zoom in to look into Top 8 stations located in San Francisco."
   ]
  },
  {
   "cell_type": "code",
   "execution_count": 62,
   "metadata": {},
   "outputs": [
    {
     "name": "stdout",
     "output_type": "stream",
     "text": [
      "272\n"
     ]
    },
    {
     "data": {
      "text/plain": [
       "San Francisco Caltrain (Townsend St at 4th St)                     17154\n",
       "San Francisco Ferry Building (Harry Bridges Plaza)                 16856\n",
       "The Embarcadero at Sansome St                                      16383\n",
       "San Francisco Caltrain Station 2  (Townsend St at 4th St)          13563\n",
       "Montgomery St BART Station (Market St at 2nd St)                   13300\n",
       "Market St at 10th St                                               11223\n",
       "Powell St BART Station (Market St at 4th St)                       11026\n",
       "Berry St at 4th St                                                 10512\n",
       "Steuart St at Market St                                             9321\n",
       "Powell St BART Station (Market St at 5th St)                        8477\n",
       "Howard St at Beale St                                               7687\n",
       "2nd St at Townsend St - Coming Soon                                 7173\n",
       "Townsend St at 7th St                                               6591\n",
       "Embarcadero BART Station (Beale St at Market St)                    6224\n",
       "Civic Center/UN Plaza BART Station (Market St at McAllister St)     6208\n",
       "3rd St at Townsend St                                               6055\n",
       "The Embarcadero at Steuart St                                       5748\n",
       "Howard St at 2nd St                                                 5660\n",
       "Post St at Kearny St                                                5607\n",
       "19th Street BART Station                                            5505\n",
       "2nd St at S Park St                                                 5502\n",
       "Spear St at Folsom St                                               5404\n",
       "Mechanics Monument Plaza (Market St at Bush St)                     5206\n",
       "5th St at Howard St                                                 5056\n",
       "S Van Ness Ave at Market St                                         4502\n",
       "Valencia St at 16th St                                              4472\n",
       "The Embarcadero at Vallejo St                                       4334\n",
       "Beale St at Harrison St                                             4289\n",
       "Valencia St at 24th St                                              4138\n",
       "The Embarcadero at Bryant St                                        4115\n",
       "                                                                   ...  \n",
       "5th St at Taylor St                                                  103\n",
       "Marston Campbell Park                                                 92\n",
       "Fruitvale Ave at International Blvd                                   83\n",
       "21st Ave at International Blvd                                        71\n",
       "Ninth St at Parker St                                                 70\n",
       "Telegraph Ave at Carleton St                                          65\n",
       "Mission St at 1st St                                                  65\n",
       "Dolores St at 22nd St                                                 63\n",
       "26th Ave at International Blvd                                        61\n",
       "Vine St at Shattuck Ave                                               60\n",
       "College Ave at Bryant Ave                                             56\n",
       "San Pablo Ave at 27th St                                              55\n",
       "Channing Way at San Pablo Ave                                         49\n",
       "13th St at Franklin St                                                48\n",
       "Delmas Ave and San Fernando St                                        48\n",
       "Webster St at 19th St                                                 48\n",
       "Palm St at Willow St                                                  37\n",
       "Foothill Blvd at 42nd Ave                                             36\n",
       "Foothill Blvd at Harrington Ave                                       31\n",
       "Fruitvale BART Station                                                30\n",
       "University Ave at Oxford St                                           29\n",
       "Willow St at Vine St                                                  22\n",
       "W St John St at Guadalupe River Trail                                 19\n",
       "Derby St at College Ave                                               18\n",
       "Bestor Art Park                                                       17\n",
       "Pierce Ave at Market St                                                7\n",
       "Harmon St at Adeline St                                                4\n",
       "Jackson St at 11th St                                                  3\n",
       "Empire St at 1st St                                                    2\n",
       "Ellsworth St at Russell St                                             2\n",
       "Name: end_station_name, Length: 272, dtype: int64"
      ]
     },
     "execution_count": 62,
     "metadata": {},
     "output_type": "execute_result"
    }
   ],
   "source": [
    "# Do they have high traffics as end stations? Looks like yes!\n",
    "print(len(df2['end_station_name'].value_counts()))\n",
    "df2['end_station_name'].value_counts()"
   ]
  },
  {
   "cell_type": "code",
   "execution_count": 63,
   "metadata": {},
   "outputs": [
    {
     "data": {
      "text/plain": [
       "San Francisco Ferry Building (Harry Bridges Plaza)           14978\n",
       "The Embarcadero at Sansome St                                13517\n",
       "San Francisco Caltrain (Townsend St at 4th St)               12366\n",
       "San Francisco Caltrain Station 2  (Townsend St at 4th St)    12003\n",
       "Market St at 10th St                                         11852\n",
       "Montgomery St BART Station (Market St at 2nd St)             11207\n",
       "Berry St at 4th St                                           10856\n",
       "Powell St BART Station (Market St at 4th St)                 10097\n",
       "Name: start_station_name, dtype: int64"
      ]
     },
     "execution_count": 63,
     "metadata": {},
     "output_type": "execute_result"
    }
   ],
   "source": [
    "# Subset the dataset by keeping only top 8 locations with high traffics, df_top8. \n",
    "locs = ['San Francisco Ferry Building (Harry Bridges Plaza)','The Embarcadero at Sansome St','San Francisco Caltrain (Townsend St at 4th St)','San Francisco Caltrain Station 2  (Townsend St at 4th St)','Market St at 10th St','Montgomery St BART Station (Market St at 2nd St)','Berry St at 4th St','Powell St BART Station (Market St at 4th St)']\n",
    "df_top8 = df2.loc[df2['start_station_name'].isin(locs)]\n",
    "df_top8['start_station_name'].value_counts()\n"
   ]
  },
  {
   "cell_type": "code",
   "execution_count": 84,
   "metadata": {},
   "outputs": [],
   "source": [
    "st_stat_counts = df_top8['start_station_name'].value_counts()\n",
    "st_stat_order = st_stat_counts.index"
   ]
  },
  {
   "cell_type": "code",
   "execution_count": 87,
   "metadata": {},
   "outputs": [
    {
     "data": {
      "image/png": "[encoded data removed]",
      "text/plain": [
       "<Figure size 432x288 with 1 Axes>"
      ]
     },
     "metadata": {
      "needs_background": "light"
     },
     "output_type": "display_data"
    }
   ],
   "source": [
    "base_color = sb.color_palette()[0]\n",
    "sb.countplot(data=df_top8, y='start_station_name', color=base_color, order=st_stat_order)\n",
    "plt.xlabel('Count')\n",
    "plt.title('Top 8th Trips Stations in SF');"
   ]
  },
  {
   "cell_type": "markdown",
   "metadata": {},
   "source": [
    "After checking start and end stations, 5 out of top 8 stations in San Francisco connect to other transportation such as Caltrain, Bart and Ferry. The Embarcadero at Sansome St is very closed to ferry building and located in financial distrit. Market St at 10th St and Berry St at 4th St are also closed to Bart station. So, it is not hard to believe why these stations have the most trips than the others. I will look into the time factors in these 8 locations."
   ]
  },
  {
   "cell_type": "code",
   "execution_count": 88,
   "metadata": {},
   "outputs": [
    {
     "name": "stderr",
     "output_type": "stream",
     "text": [
      "/Users/jemchang/anaconda3/lib/python3.6/site-packages/ipykernel_launcher.py:4: SettingWithCopyWarning: \n",
      "A value is trying to be set on a copy of a slice from a DataFrame.\n",
      "Try using .loc[row_indexer,col_indexer] = value instead\n",
      "\n",
      "See the caveats in the documentation: http://pandas.pydata.org/pandas-docs/stable/indexing.html#indexing-view-versus-copy\n",
      "  after removing the cwd from sys.path.\n"
     ]
    }
   ],
   "source": [
    "# 1.1 Time: month (after subsetting, regenerate the distribution of month again), period of time, weekday\n",
    "mon_cl = ['Jul','Aug','Sep','Oct','Nov','Dec']\n",
    "mon_cl2 = pd.api.types.CategoricalDtype(ordered=True, categories=mon_cl)\n",
    "df_top8['start_month_char'] = df_top8['start_month_char'].astype(mon_cl2)"
   ]
  },
  {
   "cell_type": "code",
   "execution_count": 90,
   "metadata": {
    "scrolled": true
   },
   "outputs": [
    {
     "data": {
      "image/png": "[encoded data removed]",
      "text/plain": [
       "<Figure size 576x720 with 3 Axes>"
      ]
     },
     "metadata": {
      "needs_background": "light"
     },
     "output_type": "display_data"
    }
   ],
   "source": [
    "fig, ax = plt.subplots(nrows=3, figsize = [8,10])\n",
    "default_color = sb.color_palette()[0]\n",
    "sb.countplot(data = df_top8, x = 'start_month_char', color = default_color, ax = ax[0])\n",
    "sb.countplot(data = df_top8, x = 'period_day', color = default_color, ax = ax[1])\n",
    "sb.countplot(data = df_top8, x = 'start_weekday_char', color = default_color, ax = ax[2]);"
   ]
  },
  {
   "cell_type": "markdown",
   "metadata": {},
   "source": [
    "In these top 8 trips stations, base on the above figures, I have the following findings:  \n",
    "1. Besides July, the number of trips gradually decrease when Winter is coming. I assume that July's trips are influenced by the launch of the program.   \n",
    "2. During the day, there are more trips in the morning and afternoon than the night. It is not hard to guess that because of rush hours. Also, the number of trips in the afternoon are less than the morning. I assumed when riders come back home, they might not be back in the afternoon. Sometimes, they come back during the night so probably some trips fall into the period of night.  \n",
    "3. It makes sense that there are more trips during the weekdays from Monday to Friday and less trips during the weekends, Saturday and Sunday because of working schedule."
   ]
  },
  {
   "cell_type": "code",
   "execution_count": 91,
   "metadata": {},
   "outputs": [
    {
     "data": {
      "image/png": "[encoded data removed]",
      "text/plain": [
       "<Figure size 576x576 with 2 Axes>"
      ]
     },
     "metadata": {
      "needs_background": "light"
     },
     "output_type": "display_data"
    }
   ],
   "source": [
    "# 3. Rider's characteristics: user type and gender\n",
    "fig, ax = plt.subplots(nrows=2, figsize = [8,8])\n",
    "default_color = sb.color_palette()[0]\n",
    "sb.countplot(data = df_top8, x = 'user_type', color = default_color, ax = ax[0])\n",
    "sb.countplot(data = df_top8, x = 'member_gender', color = default_color, ax = ax[1]);"
   ]
  },
  {
   "cell_type": "markdown",
   "metadata": {},
   "source": [
    "In these top 8 trips stations, base on the above figures, I have the following findings:   \n",
    "- It makes sense that there are more subscribers than customers. Based on the [pricing page] (https://www.fordgobike.com/pricing), monthly membership only takes 15 dollars. For regular customers, one trip takes 2 dollars and one day takes 10 dollars. If riders are commuters, it does not make sense for them to choose one time or two time purchases instead of being the members.  \n",
    "- For the gender groups, I am surprised that the number of male riders is 3 times more than the number of females. Why is that? I will investigate this more in the following."
   ]
  },
  {
   "cell_type": "code",
   "execution_count": 187,
   "metadata": {},
   "outputs": [
    {
     "data": {
      "image/png": "[encoded data removed]",
      "text/plain": [
       "<Figure size 576x432 with 1 Axes>"
      ]
     },
     "metadata": {
      "needs_background": "light"
     },
     "output_type": "display_data"
    }
   ],
   "source": [
    "# 4. Age: based on the distribution, we can tell it's right skewed and has some outliers between 100 and 120.\n",
    "plt.figure(figsize=(8,6))\n",
    "bins = np.arange(0, df_top8['age'].max()+2, 2)\n",
    "plt.hist(data=df_top8, x='age', bins=bins)\n",
    "plt.xlabel('Age (Year)')\n",
    "plt.ylabel('Count')\n",
    "plt.title('Age distribution of Ford GoBike data in Top 8 Start Station');"
   ]
  },
  {
   "cell_type": "code",
   "execution_count": 188,
   "metadata": {
    "scrolled": true
   },
   "outputs": [
    {
     "data": {
      "image/png": "[encoded data removed]",
      "text/plain": [
       "<Figure size 576x432 with 1 Axes>"
      ]
     },
     "metadata": {
      "needs_background": "light"
     },
     "output_type": "display_data"
    }
   ],
   "source": [
    "# there's a long tail in the distribution, so let's put it on a log scale instead\n",
    "log_binsize = 0.025\n",
    "bins = 10 ** np.arange(1.2, np.log10(df_top8['age'].max())+log_binsize, log_binsize)\n",
    "\n",
    "plt.figure(figsize=[8, 6])\n",
    "plt.hist(data = df_top8, x = 'age', bins = bins)\n",
    "plt.xscale('log')\n",
    "plt.xticks([10,20,30,40,50,70,100], [10,20,30,40,50,70,100])\n",
    "plt.xlabel('Age (Year)');"
   ]
  },
  {
   "cell_type": "markdown",
   "metadata": {},
   "source": [
    "From the figure, age older than 100 looks like outliers, so I remove them from the dataset."
   ]
  },
  {
   "cell_type": "code",
   "execution_count": null,
   "metadata": {},
   "outputs": [],
   "source": [
    "df_top8_le100 = df_top8.query('age <= 100')"
   ]
  },
  {
   "cell_type": "code",
   "execution_count": null,
   "metadata": {},
   "outputs": [],
   "source": [
    "df_top8_le100.query('age > 100').shape[0]"
   ]
  },
  {
   "cell_type": "code",
   "execution_count": 195,
   "metadata": {},
   "outputs": [],
   "source": [
    "# Only use the subsetted dataset to perform the rest of analysis.\n",
    "df_top8_le100.to_csv(\"2017-fordgobike-tripdata-clean.csv\", index=False)"
   ]
  },
  {
   "cell_type": "markdown",
   "metadata": {},
   "source": [
    "### Discuss the distribution(s) of your variable(s) of interest. Were there any unusual points? Did you need to perform any transformations?\n",
    "\n",
    "> Your answer here!\n",
    "\n",
    "### Of the features you investigated, were there any unusual distributions? Did you perform any operations on the data to tidy, adjust, or change the form of the data? If so, why did you do this?\n",
    "\n",
    "> Your answer here!"
   ]
  },
  {
   "cell_type": "markdown",
   "metadata": {},
   "source": [
    "## Bivariate Exploration\n",
    "\n",
    "> In this section, investigate relationships between pairs of variables in your\n",
    "data. Make sure the variables that you cover here have been introduced in some\n",
    "fashion in the previous section (univariate exploration)."
   ]
  },
  {
   "cell_type": "code",
   "execution_count": null,
   "metadata": {},
   "outputs": [],
   "source": []
  },
  {
   "cell_type": "markdown",
   "metadata": {},
   "source": [
    "### Talk about some of the relationships you observed in this part of the investigation. How did the feature(s) of interest vary with other features in the dataset?\n",
    "\n",
    "> Your answer here!\n",
    "\n",
    "### Did you observe any interesting relationships between the other features (not the main feature(s) of interest)?\n",
    "\n",
    "> Your answer here!"
   ]
  },
  {
   "cell_type": "markdown",
   "metadata": {},
   "source": [
    "## Multivariate Exploration\n",
    "\n",
    "> Create plots of three or more variables to investigate your data even\n",
    "further. Make sure that your investigations are justified, and follow from\n",
    "your work in the previous sections."
   ]
  },
  {
   "cell_type": "code",
   "execution_count": null,
   "metadata": {},
   "outputs": [],
   "source": []
  },
  {
   "cell_type": "markdown",
   "metadata": {},
   "source": [
    "### Talk about some of the relationships you observed in this part of the investigation. Were there features that strengthened each other in terms of looking at your feature(s) of interest?\n",
    "\n",
    "> Your answer here!\n",
    "\n",
    "### Were there any interesting or surprising interactions between features?\n",
    "\n",
    "> Your answer here!"
   ]
  },
  {
   "cell_type": "markdown",
   "metadata": {},
   "source": [
    "> At the end of your report, make sure that you export the notebook as an\n",
    "html file from the `File > Download as... > HTML` menu. Make sure you keep\n",
    "track of where the exported file goes, so you can put it in the same folder\n",
    "as this notebook for project submission. Also, make sure you remove all of\n",
    "the quote-formatted guide notes like this one before you finish your report!"
   ]
  },
  {
   "cell_type": "markdown",
   "metadata": {},
   "source": [
    "\n",
    "Dataset,2017-fordgobike-tripdata.csv, https://s3.amazonaws.com/fordgobike-data/index.html\n",
    "\n",
    "license https://assets.fordgobike.com/data-license-agreement.html"
   ]
  }
 ],
 "metadata": {
  "kernelspec": {
   "display_name": "Python 3",
   "language": "python",
   "name": "python3"
  },
  "language_info": {
   "codemirror_mode": {
    "name": "ipython",
    "version": 3
   },
   "file_extension": ".py",
   "mimetype": "text/x-python",
   "name": "python",
   "nbconvert_exporter": "python",
   "pygments_lexer": "ipython3",
   "version": "3.6.8"
  }
 },
 "nbformat": 4,
 "nbformat_minor": 2
}
